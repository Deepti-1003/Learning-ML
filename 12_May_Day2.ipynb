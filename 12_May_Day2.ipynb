{
 "cells": [
  {
   "cell_type": "code",
   "execution_count": 2,
   "metadata": {},
   "outputs": [],
   "source": [
    "#importing packages \n",
    "import tensorflow as tf\n",
    "import numpy as np"
   ]
  },
  {
   "cell_type": "code",
   "execution_count": 3,
   "metadata": {},
   "outputs": [],
   "source": [
    "#calling fashion dataset\n",
    "mnist=tf.keras.datasets.fashion_mnist"
   ]
  },
  {
   "cell_type": "code",
   "execution_count": 4,
   "metadata": {},
   "outputs": [],
   "source": [
    "#loading data from fashion dataset\n",
    "(train_images,train_labels),(test_images,test_labels)=mnist.load_data()"
   ]
  },
  {
   "cell_type": "code",
   "execution_count": 5,
   "metadata": {},
   "outputs": [],
   "source": [
    "#normalizing the data\n",
    "train_images=train_images/255.0\n",
    "test_images=test_images/255.0"
   ]
  },
  {
   "cell_type": "code",
   "execution_count": 6,
   "metadata": {},
   "outputs": [],
   "source": [
    "model=tf.keras.models.Sequential([tf.keras.layers.Flatten(),\n",
    "                                 tf.keras.layers.Dense(128,activation=tf.nn.relu),\n",
    "                                 tf.keras.layers.Dense(10,activation=tf.nn.softmax)])"
   ]
  },
  {
   "cell_type": "code",
   "execution_count": 7,
   "metadata": {},
   "outputs": [],
   "source": [
    "class myCallback(tf.keras.callbacks.Callback):\n",
    "    def on_epoch_end(self,epoch,logs={}):\n",
    "        if(logs.get('loss')<0.25):\n",
    "            print('Loss less than 0.25 achieved')\n",
    "            self.model.stop_training=True"
   ]
  },
  {
   "cell_type": "code",
   "execution_count": 8,
   "metadata": {},
   "outputs": [
    {
     "name": "stdout",
     "output_type": "stream",
     "text": [
      "Epoch 1/10\n",
      "1875/1875 [==============================] - 6s 3ms/step - loss: 0.6253 - accuracy: 0.7806\n",
      "Epoch 2/10\n",
      "1875/1875 [==============================] - 4s 2ms/step - loss: 0.3748 - accuracy: 0.8650\n",
      "Epoch 3/10\n",
      "1875/1875 [==============================] - 5s 2ms/step - loss: 0.3333 - accuracy: 0.8790\n",
      "Epoch 4/10\n",
      "1875/1875 [==============================] - 5s 3ms/step - loss: 0.3109 - accuracy: 0.8872\n",
      "Epoch 5/10\n",
      "1875/1875 [==============================] - 5s 2ms/step - loss: 0.2896 - accuracy: 0.8923\n",
      "Epoch 6/10\n",
      "1875/1875 [==============================] - 5s 3ms/step - loss: 0.2790 - accuracy: 0.8969\n",
      "Epoch 7/10\n",
      "1875/1875 [==============================] - 5s 2ms/step - loss: 0.2644 - accuracy: 0.9027\n",
      "Epoch 8/10\n",
      "1875/1875 [==============================] - 5s 3ms/step - loss: 0.2491 - accuracy: 0.9078\n",
      "Epoch 9/10\n",
      "1875/1875 [==============================] - 5s 2ms/step - loss: 0.2489 - accuracy: 0.9077\n",
      "Loss less than 0.25 achieved\n"
     ]
    },
    {
     "data": {
      "text/plain": [
       "<tensorflow.python.keras.callbacks.History at 0x16c325521c0>"
      ]
     },
     "execution_count": 8,
     "metadata": {},
     "output_type": "execute_result"
    }
   ],
   "source": [
    "callbacks=myCallback()\n",
    "model.compile(optimizer=tf.optimizers.Adam(),loss='sparse_categorical_crossentropy',metrics=['accuracy'])\n",
    "model.fit(train_images,train_labels,epochs=10,callbacks=[callbacks])"
   ]
  },
  {
   "cell_type": "code",
   "execution_count": 9,
   "metadata": {
    "scrolled": true
   },
   "outputs": [
    {
     "name": "stdout",
     "output_type": "stream",
     "text": [
      "313/313 [==============================] - 1s 2ms/step - loss: 0.3462 - accuracy: 0.8839\n"
     ]
    },
    {
     "data": {
      "text/plain": [
       "[0.34621238708496094, 0.883899986743927]"
      ]
     },
     "execution_count": 9,
     "metadata": {},
     "output_type": "execute_result"
    }
   ],
   "source": [
    "model.evaluate(test_images,test_labels)"
   ]
  },
  {
   "cell_type": "code",
   "execution_count": 14,
   "metadata": {},
   "outputs": [
    {
     "name": "stdout",
     "output_type": "stream",
     "text": [
      "[[0.         0.         0.         0.         0.         0.\n",
      "  0.         0.         0.         0.         0.05098039 0.2627451\n",
      "  0.         0.         0.         0.         0.19607843 0.14901961\n",
      "  0.         0.         0.         0.         0.         0.\n",
      "  0.         0.         0.         0.        ]\n",
      " [0.         0.         0.         0.         0.         0.\n",
      "  0.         0.03137255 0.47058824 0.81960784 0.88627451 0.96862745\n",
      "  0.92941176 1.         1.         1.         0.96862745 0.93333333\n",
      "  0.92156863 0.6745098  0.28235294 0.         0.         0.\n",
      "  0.         0.         0.         0.        ]\n",
      " [0.         0.         0.         0.         0.         0.\n",
      "  0.5372549  0.9372549  0.98823529 0.95294118 0.91764706 0.89803922\n",
      "  0.93333333 0.95686275 0.96470588 0.94117647 0.90196078 0.90980392\n",
      "  0.9372549  0.97254902 0.98431373 0.76078431 0.         0.\n",
      "  0.         0.         0.         0.        ]\n",
      " [0.         0.         0.         0.         0.         0.4\n",
      "  1.         0.90588235 0.89411765 0.89019608 0.89411765 0.91372549\n",
      "  0.90196078 0.90196078 0.89803922 0.89411765 0.90980392 0.90980392\n",
      "  0.90588235 0.89019608 0.87843137 0.98823529 0.70196078 0.\n",
      "  0.         0.         0.         0.        ]\n",
      " [0.         0.         0.         0.         0.         0.91372549\n",
      "  0.94509804 0.89803922 0.90588235 1.         1.         0.93333333\n",
      "  0.90588235 0.89019608 0.93333333 0.96470588 0.89411765 0.90196078\n",
      "  0.89019608 0.91764706 0.92156863 0.89803922 0.94509804 0.07843137\n",
      "  0.         0.         0.         0.        ]\n",
      " [0.         0.         0.         0.         0.         0.97254902\n",
      "  0.94509804 0.90588235 1.         0.58431373 0.18431373 0.98823529\n",
      "  0.89411765 1.         0.94901961 0.84705882 0.93333333 0.90980392\n",
      "  1.         0.89411765 0.8627451  0.91764706 0.98039216 0.21176471\n",
      "  0.         0.         0.         0.        ]\n",
      " [0.         0.         0.         0.         0.         1.\n",
      "  0.94117647 0.90980392 1.         0.05882353 0.         1.\n",
      "  0.92941176 0.74901961 0.         0.         0.83921569 1.\n",
      "  0.05098039 0.48235294 1.         0.91764706 0.98823529 0.44705882\n",
      "  0.         0.         0.         0.        ]\n",
      " [0.         0.         0.         0.         0.02352941 1.\n",
      "  0.93333333 0.9372549  1.         0.69411765 0.         1.\n",
      "  1.         0.         0.50980392 0.45490196 0.18431373 0.25490196\n",
      "  0.16862745 0.14509804 1.         0.9254902  0.97647059 0.63529412\n",
      "  0.         0.         0.         0.        ]\n",
      " [0.         0.         0.         0.         0.1254902  1.\n",
      "  0.9254902  0.96078431 1.         0.8        0.         1.\n",
      "  0.32941176 0.         0.14509804 0.10980392 0.12156863 0.\n",
      "  0.09803922 0.05098039 1.         0.9254902  0.97647059 0.78039216\n",
      "  0.         0.         0.         0.        ]\n",
      " [0.         0.         0.         0.         0.20784314 1.\n",
      "  0.9254902  0.98039216 0.98039216 0.90588235 0.00784314 1.\n",
      "  0.08235294 0.         0.86666667 1.         0.9254902  0.21176471\n",
      "  0.96078431 0.77647059 0.95294118 0.93333333 0.96078431 0.8745098\n",
      "  0.         0.         0.         0.        ]\n",
      " [0.         0.         0.         0.         0.31372549 1.\n",
      "  0.92941176 0.98039216 0.94117647 1.         0.         0.\n",
      "  0.15294118 0.61568627 0.         0.         0.84313725 0.36862745\n",
      "  0.07843137 0.49411765 1.         0.92941176 0.9372549  0.98039216\n",
      "  0.         0.         0.         0.        ]\n",
      " [0.         0.         0.         0.         0.39607843 1.\n",
      "  0.92156863 0.99215686 0.95686275 0.95294118 0.52156863 0.54117647\n",
      "  0.81568627 1.         0.78823529 0.83921569 1.         0.90196078\n",
      "  0.02745098 0.68235294 1.         0.94117647 0.93333333 1.\n",
      "  0.         0.         0.         0.        ]\n",
      " [0.         0.         0.         0.         0.49411765 1.\n",
      "  0.91372549 1.         0.97254902 0.91372549 1.         1.\n",
      "  0.94117647 0.90980392 0.95294118 0.95294118 0.90588235 0.98431373\n",
      "  1.         1.         0.99607843 0.95294118 0.93333333 1.\n",
      "  0.01176471 0.         0.         0.        ]\n",
      " [0.         0.         0.         0.         0.57647059 1.\n",
      "  0.91372549 0.97647059 0.70980392 0.95294118 0.89019608 0.87843137\n",
      "  0.90196078 0.91764706 0.90196078 0.90196078 0.92156863 0.89411765\n",
      "  0.92156863 0.87058824 0.81176471 1.         0.9254902  1.\n",
      "  0.1372549  0.         0.         0.        ]\n",
      " [0.         0.         0.         0.         0.63921569 1.\n",
      "  0.96078431 0.86666667 0.3372549  1.         0.91372549 0.91372549\n",
      "  0.92156863 0.9254902  0.91764706 0.91764706 0.91764706 0.90980392\n",
      "  0.94901961 0.90588235 0.49019608 1.         0.9254902  1.\n",
      "  0.21568627 0.         0.         0.        ]\n",
      " [0.         0.         0.         0.         0.70980392 0.99607843\n",
      "  1.         0.78431373 0.27058824 1.         0.89411765 0.90980392\n",
      "  0.91764706 0.92156863 0.91764706 0.91764706 0.91372549 0.92156863\n",
      "  0.94509804 0.92941176 0.2745098  1.         0.92156863 0.96470588\n",
      "  0.22352941 0.         0.         0.        ]\n",
      " [0.         0.         0.         0.         0.77254902 0.96862745\n",
      "  1.         0.7372549  0.43137255 1.         0.87843137 0.91372549\n",
      "  0.91764706 0.91764706 0.91764706 0.91764706 0.91764706 0.91764706\n",
      "  0.94117647 0.99215686 0.27058824 1.         0.9254902  0.97254902\n",
      "  0.30196078 0.         0.         0.        ]\n",
      " [0.         0.         0.         0.         0.78431373 0.96470588\n",
      "  1.         0.58431373 0.56862745 1.         0.8745098  0.92156863\n",
      "  0.91764706 0.92156863 0.92156863 0.92156863 0.91764706 0.92941176\n",
      "  0.91372549 1.         0.18431373 1.         0.9372549  0.97647059\n",
      "  0.38431373 0.         0.         0.        ]\n",
      " [0.         0.         0.         0.         0.8        0.95294118\n",
      "  1.         0.43529412 0.67843137 1.         0.89019608 0.92156863\n",
      "  0.92156863 0.9254902  0.92156863 0.92156863 0.92156863 0.9372549\n",
      "  0.89803922 1.         0.0745098  0.89019608 0.96470588 0.97647059\n",
      "  0.43137255 0.         0.         0.        ]\n",
      " [0.         0.         0.         0.         0.76862745 0.94117647\n",
      "  1.         0.42745098 0.83529412 0.98039216 0.89803922 0.92156863\n",
      "  0.92156863 0.9254902  0.92156863 0.92941176 0.9254902  0.92941176\n",
      "  0.88627451 1.         0.21568627 0.79607843 0.98431373 0.96078431\n",
      "  0.47058824 0.         0.         0.        ]\n",
      " [0.         0.         0.         0.         0.75294118 0.95294118\n",
      "  1.         0.44705882 0.90980392 0.94117647 0.90980392 0.92156863\n",
      "  0.92156863 0.9254902  0.91764706 0.92941176 0.9254902  0.92156863\n",
      "  0.89803922 1.         0.5254902  0.67058824 0.98823529 0.95686275\n",
      "  0.5372549  0.         0.         0.        ]\n",
      " [0.         0.         0.         0.         0.74117647 0.98431373\n",
      "  1.         0.60392157 0.93333333 0.91372549 0.9254902  0.91764706\n",
      "  0.92156863 0.9254902  0.92156863 0.93333333 0.9254902  0.92156863\n",
      "  0.90980392 1.         0.65098039 0.49019608 1.         0.95294118\n",
      "  0.55686275 0.         0.         0.        ]\n",
      " [0.         0.         0.         0.         0.71764706 0.98823529\n",
      "  1.         0.67058824 0.96862745 0.90980392 0.91764706 0.91764706\n",
      "  0.91372549 0.91372549 0.90980392 0.91764706 0.91372549 0.91764706\n",
      "  0.91372549 0.94117647 0.8745098  0.50196078 1.         0.94901961\n",
      "  0.59215686 0.         0.         0.        ]\n",
      " [0.         0.         0.         0.         0.69803922 0.95294118\n",
      "  1.         0.22352941 0.93333333 0.94509804 0.93333333 0.93333333\n",
      "  0.93333333 0.92941176 0.9254902  0.92941176 0.92941176 0.94117647\n",
      "  0.92941176 0.99607843 0.69019608 0.20392157 1.         0.9372549\n",
      "  0.61568627 0.         0.         0.        ]\n",
      " [0.         0.         0.         0.         0.7372549  0.94117647\n",
      "  0.98039216 0.24313725 0.85490196 1.         0.8627451  0.87058824\n",
      "  0.87058824 0.87058824 0.8745098  0.8745098  0.87843137 0.87058824\n",
      "  0.85490196 1.         0.60392157 0.1254902  1.         0.9254902\n",
      "  0.7372549  0.         0.         0.        ]\n",
      " [0.         0.         0.         0.         0.50980392 0.96078431\n",
      "  0.94901961 0.09411765 0.         0.         0.         0.\n",
      "  0.         0.         0.         0.         0.         0.\n",
      "  0.         0.         0.         0.13333333 0.94901961 0.95686275\n",
      "  0.52941176 0.         0.         0.        ]\n",
      " [0.         0.         0.         0.         0.29803922 1.\n",
      "  0.97647059 0.08627451 0.         0.         0.         0.\n",
      "  0.         0.         0.         0.         0.         0.\n",
      "  0.         0.         0.         0.15294118 0.97647059 1.\n",
      "  0.48235294 0.         0.         0.        ]\n",
      " [0.         0.         0.         0.         0.19215686 0.80392157\n",
      "  0.77254902 0.04313725 0.         0.01568627 0.00392157 0.00784314\n",
      "  0.00784314 0.00784314 0.00784314 0.00784314 0.00784314 0.00784314\n",
      "  0.00784314 0.01176471 0.         0.01176471 0.68235294 0.74117647\n",
      "  0.2627451  0.         0.         0.        ]]\n",
      "2\n"
     ]
    },
    {
     "data": {
      "image/png": "[encoded data removed]",
      "text/plain": [
       "<Figure size 432x288 with 1 Axes>"
      ]
     },
     "metadata": {
      "needs_background": "light"
     },
     "output_type": "display_data"
    }
   ],
   "source": [
    "import matplotlib.pyplot as plt\n",
    "plt.imshow(test_images[1])\n",
    "print(test_images[1])\n",
    "print(test_labels[1])"
   ]
  }
 ],
 "metadata": {
  "kernelspec": {
   "display_name": "Python 3",
   "language": "python",
   "name": "python3"
  },
  "language_info": {
   "codemirror_mode": {
    "name": "ipython",
    "version": 3
   },
   "file_extension": ".py",
   "mimetype": "text/x-python",
   "name": "python",
   "nbconvert_exporter": "python",
   "pygments_lexer": "ipython3",
   "version": "3.8.5"
  }
 },
 "nbformat": 4,
 "nbformat_minor": 4
}
